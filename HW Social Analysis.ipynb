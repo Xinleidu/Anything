{
 "cells": [
  {
   "cell_type": "code",
   "execution_count": 282,
   "metadata": {},
   "outputs": [],
   "source": [
    "import tweepy\n",
    "import json\n",
    "import numpy as np\n",
    "import pandas as pd\n",
    "import matplotlib.pyplot as plt"
   ]
  },
  {
   "cell_type": "code",
   "execution_count": 283,
   "metadata": {},
   "outputs": [],
   "source": [
    "from vaderSentiment.vaderSentiment import SentimentIntensityAnalyzer\n",
    "analyzer = SentimentIntensityAnalyzer()"
   ]
  },
  {
   "cell_type": "code",
   "execution_count": 284,
   "metadata": {},
   "outputs": [],
   "source": [
    "\n",
    "# Twitter API Keys\n",
    "consumer_key = 'nGqiWNqEmbTmM5hyQGibdqX48'\n",
    "consumer_secret = 'oJTGMPcANso6OCcEFWDJSWrh0am4M9EOWKQv2SOMDSmDmcDh0k'\n",
    "access_token = '1010591140402229248-1qr4hgWHjg5jaTqG3vqZXepb3yzmxo'\n",
    "access_token_secret = 'SzEF02zNyNfYoUTQFNcXyUrKXdc678lPiHLbpbNRawBJ1'\n",
    "\n",
    "\n",
    "# Setup Tweepy API Authentication\n",
    "auth = tweepy.OAuthHandler(consumer_key, consumer_secret)\n",
    "auth.set_access_token(access_token, access_token_secret)\n",
    "api = tweepy.API(auth, parser=tweepy.parsers.JSONParser())\n"
   ]
  },
  {
   "cell_type": "code",
   "execution_count": 285,
   "metadata": {},
   "outputs": [],
   "source": [
    "target_users = [\"@BBCWorld\", \"@CBSNews\", \"@CNN\", \"@FoxNews\",\"@nytimes\"]\n",
    "\n",
    "outlets = []\n",
    "compound_list = []\n",
    "positive_list = []\n",
    "negative_list = []\n",
    "neutral_list = []\n",
    "tweet_counter = []\n",
    "\n",
    "for target in target_users:\n",
    "\n",
    "        public_tweets = api.user_timeline(target, count=100, result_type=\"recent\") \n",
    "        \n",
    "        tweet_number = 100\n",
    "\n",
    "       \n",
    "        for tweet in public_tweets: \n",
    "\n",
    "           \n",
    "            scores = analyzer.polarity_scores(tweet['text'])\n",
    "            compound = scores['compound']\n",
    "            pos = scores['pos']\n",
    "            neu = scores['neu']\n",
    "            neg = scores['neg']\n",
    "            \n",
    "            \n",
    "            \n",
    "            compound_list.append(compound)\n",
    "            positive_list.append(pos)\n",
    "            negative_list.append(neg)\n",
    "            neutral_list.append(neu)\n",
    "            outlets.append(target)\n",
    "            tweet_counter.append(tweet_number)\n",
    "            \n",
    "            sentiments = {\"User\": outlets,\n",
    "                          \"Date\": tweet[\"created_at\"],\n",
    "                          \"Compound\": compound_list,\n",
    "                          \"Positive\": positive_list,\n",
    "                          \"Negative\": neutral_list,\n",
    "                          \"Neutral\": negative_list,\n",
    "                         \"Tweet_Count\": tweet_counter}"
   ]
  },
  {
   "cell_type": "code",
   "execution_count": 286,
   "metadata": {},
   "outputs": [
    {
     "data": {
      "text/html": [
       "<div>\n",
       "<style scoped>\n",
       "    .dataframe tbody tr th:only-of-type {\n",
       "        vertical-align: middle;\n",
       "    }\n",
       "\n",
       "    .dataframe tbody tr th {\n",
       "        vertical-align: top;\n",
       "    }\n",
       "\n",
       "    .dataframe thead th {\n",
       "        text-align: right;\n",
       "    }\n",
       "</style>\n",
       "<table border=\"1\" class=\"dataframe\">\n",
       "  <thead>\n",
       "    <tr style=\"text-align: right;\">\n",
       "      <th></th>\n",
       "      <th>Compound</th>\n",
       "      <th>Date</th>\n",
       "      <th>Negative</th>\n",
       "      <th>Neutral</th>\n",
       "      <th>Positive</th>\n",
       "      <th>Tweet_Count</th>\n",
       "      <th>User</th>\n",
       "    </tr>\n",
       "  </thead>\n",
       "  <tbody>\n",
       "    <tr>\n",
       "      <th>0</th>\n",
       "      <td>0.0000</td>\n",
       "      <td>Sat Jul 14 00:02:05 +0000 2018</td>\n",
       "      <td>1.000</td>\n",
       "      <td>0.000</td>\n",
       "      <td>0.000</td>\n",
       "      <td>100</td>\n",
       "      <td>@BBCWorld</td>\n",
       "    </tr>\n",
       "    <tr>\n",
       "      <th>1</th>\n",
       "      <td>-0.4404</td>\n",
       "      <td>Sat Jul 14 00:02:05 +0000 2018</td>\n",
       "      <td>0.698</td>\n",
       "      <td>0.302</td>\n",
       "      <td>0.000</td>\n",
       "      <td>100</td>\n",
       "      <td>@BBCWorld</td>\n",
       "    </tr>\n",
       "    <tr>\n",
       "      <th>2</th>\n",
       "      <td>0.0000</td>\n",
       "      <td>Sat Jul 14 00:02:05 +0000 2018</td>\n",
       "      <td>1.000</td>\n",
       "      <td>0.000</td>\n",
       "      <td>0.000</td>\n",
       "      <td>100</td>\n",
       "      <td>@BBCWorld</td>\n",
       "    </tr>\n",
       "    <tr>\n",
       "      <th>3</th>\n",
       "      <td>0.2500</td>\n",
       "      <td>Sat Jul 14 00:02:05 +0000 2018</td>\n",
       "      <td>0.818</td>\n",
       "      <td>0.000</td>\n",
       "      <td>0.182</td>\n",
       "      <td>100</td>\n",
       "      <td>@BBCWorld</td>\n",
       "    </tr>\n",
       "    <tr>\n",
       "      <th>4</th>\n",
       "      <td>0.0000</td>\n",
       "      <td>Sat Jul 14 00:02:05 +0000 2018</td>\n",
       "      <td>1.000</td>\n",
       "      <td>0.000</td>\n",
       "      <td>0.000</td>\n",
       "      <td>100</td>\n",
       "      <td>@BBCWorld</td>\n",
       "    </tr>\n",
       "  </tbody>\n",
       "</table>\n",
       "</div>"
      ],
      "text/plain": [
       "   Compound                            Date  Negative  Neutral  Positive  \\\n",
       "0    0.0000  Sat Jul 14 00:02:05 +0000 2018     1.000    0.000     0.000   \n",
       "1   -0.4404  Sat Jul 14 00:02:05 +0000 2018     0.698    0.302     0.000   \n",
       "2    0.0000  Sat Jul 14 00:02:05 +0000 2018     1.000    0.000     0.000   \n",
       "3    0.2500  Sat Jul 14 00:02:05 +0000 2018     0.818    0.000     0.182   \n",
       "4    0.0000  Sat Jul 14 00:02:05 +0000 2018     1.000    0.000     0.000   \n",
       "\n",
       "   Tweet_Count       User  \n",
       "0          100  @BBCWorld  \n",
       "1          100  @BBCWorld  \n",
       "2          100  @BBCWorld  \n",
       "3          100  @BBCWorld  \n",
       "4          100  @BBCWorld  "
      ]
     },
     "execution_count": 286,
     "metadata": {},
     "output_type": "execute_result"
    }
   ],
   "source": [
    "sentiments_pd = pd.DataFrame.from_dict(sentiments)\n",
    "sentiments_pd.head()"
   ]
  },
  {
   "cell_type": "code",
   "execution_count": 287,
   "metadata": {},
   "outputs": [],
   "source": [
    "sentiments_pd.to_csv('news_sentiments.csv')"
   ]
  },
  {
   "cell_type": "code",
   "execution_count": null,
   "metadata": {},
   "outputs": [],
   "source": [
    "\n"
   ]
  },
  {
   "cell_type": "code",
   "execution_count": null,
   "metadata": {
    "scrolled": true
   },
   "outputs": [],
   "source": []
  },
  {
   "cell_type": "code",
   "execution_count": null,
   "metadata": {},
   "outputs": [],
   "source": []
  },
  {
   "cell_type": "code",
   "execution_count": null,
   "metadata": {
    "scrolled": true
   },
   "outputs": [],
   "source": []
  },
  {
   "cell_type": "code",
   "execution_count": null,
   "metadata": {},
   "outputs": [],
   "source": []
  }
 ],
 "metadata": {
  "kernelspec": {
   "display_name": "Python 3",
   "language": "python",
   "name": "python3"
  },
  "language_info": {
   "codemirror_mode": {
    "name": "ipython",
    "version": 3
   },
   "file_extension": ".py",
   "mimetype": "text/x-python",
   "name": "python",
   "nbconvert_exporter": "python",
   "pygments_lexer": "ipython3",
   "version": "3.6.4"
  }
 },
 "nbformat": 4,
 "nbformat_minor": 2
}
